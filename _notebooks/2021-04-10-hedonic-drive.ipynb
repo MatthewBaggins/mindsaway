{
 "cells": [
  {
   "cell_type": "markdown",
   "metadata": {},
   "source": [
    "# Hedonic Drive\n",
    "\n",
    "- toc: false\n",
    "- badges: true\n",
    "- comments: true\n",
    "- categories: [jupyter]\n",
    "- image: images/chart-preview.png"
   ]
  },
  {
   "cell_type": "markdown",
   "metadata": {},
   "source": [
    "When you get better at accomplishing the goals you set for yourself, you may encounter an unobvious failure mode. At some point, you may realize that your motivation for doing certain things becomes more and more tightly entangled with *having them done* rather than *doing them*. In other words, although once you enjoyed them just for their own sake, you can begin viewing them more and more as something that's instrumental for getting satisfaction from knowing that you accomplished your goal and fulfilled your plan.\n",
    "\n",
    "Recently, I realized that I had experienced something like that many times over the last few years without realizing that basically the same mechanism had manifested in all of these cases. Whether it was working out, dieting, playing guitar, learning math, programming, or writing, once I implemented some kind of system to keep myself on track, some part of my internal motivation started to wane.\n",
    "\n",
    "To put it differently, my motivation started to flow more and more from the desire to accomplish some particular goal I had set for myself. The better I get in planning, time-management, *et cetera*, the more I tend to rely on the pleasure associated with feelings like:\n",
    "\n",
    "* *I finally did it!*\n",
    "\n",
    "* *I'm almost there, just one more...*\n",
    "\n",
    "* *All goals for this week have been accomplished -- system shut-down, complete.*\n",
    "\n",
    "...rather than:\n",
    "\n",
    "* *This (thing that I'm doing right now) is awesome/interesting*\n",
    "\n",
    "* *I want to learn more about this!*\n",
    "\n",
    "* *I'm fulfilled by what I just created and it was a lot of fun*\n",
    "\n",
    "I think this strongly parallels how people tend to lose enthusiasm about their passions, once they start getting consistently paid for doing it. Money can easily dethrone intrinsic motivation, to the point that it may be hard to restore it, once financial incentive is removed. From my experience, the same often occurs in the schooling system degrading student's curiosity and replacing pursuit of knowledge and understanding as something desirable in itself with incentives to cram the material just to get good grades, appreciation from teachers or other authorities and a piece of paper that asserts you being a ***Master of Science***.\n",
    "\n",
    "Still, we shouldn't throw the baby out with the bathwater. Systems can be extremely helpful for getting better and more consistent results, whether you want to refine some specific skill, create a habit of working out, or whatever it is you care about. However, they shouldn't replace intrinsic motivation with narrow-minded fixation on goals. Rather, they should strengthen this motivation by feeding it stronger signals related to doing something enjoyable with greater skill, better final products of your work, and even ability to immerse yourself in the moment when you are doing the thing.\n",
    "\n",
    "Some suggestions for how we can help ourselves retain our internal motivation when/if it starts competing with external forces which are supposed to push us in the same direction:\n",
    "\n",
    "1. Minimum pressure principle\n",
    "\n",
    "Most of the time, you want to push yourself a little, but not too much. As [Piotr Woźniak writes](https://supermemo.guru/wiki/I_would_never_send_my_kids_to_school#The_optimum_push):\n",
    "\n",
    "> *There is a dramatic increase in value at little pressure (high return on low investment of teaching, tutoring, mentoring, etc.). The optimum usually falls at very low levels of pressure (might be much higher for some kids). There is a quick decline in development speed in the zone where adding pressure diminishes outcomes. The optimum push zone is richest in the sense of accomplishment, and provides for a cumulative increase in enthusiasm, passion, interest, and knowledge.*\n",
    "\n",
    "If you feel anxious and/or stressed about the story you write, that's definitely not a viable long-term strategy. You probably aren't going to stick to your system, and if you do, it will neither pleasant nor very satisfying.\n",
    "\n",
    "On the other hand, if you often think something like \"*Crap, I really don't feel like jogging/writing right now, but I commited myself to it, so I'm going to do it anyway*\" but after you spend 5 to 10 minutes doing it, you start enjoying it and recall why you wanted to it in the first place, then you are probably in the vicinity of what Woźniak calls \"**the optimum push zone**\".\n",
    "\n",
    "2. Lower your tolerance for (certain kinds of) discomfort\n",
    "\n",
    "Closely related to the previous point. If the intrinsically-desirable-thingy you are trying to systematize starts causing you more discomfort/distress/anxiety than pleasure/satisfaction/*eudaimonia*, you probably should re-evaluate your strategy. The less good feelings you associate with the thingy, the less reward signal you get from the thingy itself. And the less reward signal you get from it, the more you rely on reward signal coming from the system, i.e. knowledge that you accomplished X, regardless of what X is and why(if?) you care about it.\n",
    "\n",
    "Also, keep in mind that your values, preferences, and objectives change over time. Don't feel obliged to spend an hour every day on writing, even if it has been a torture for the last two months and you don't seem to enjoy it, no matter how you try to approach it. (But [also](https://slatestarcodex.com/2014/03/24/should-you-reverse-any-advice-you-hear/) don't make the (reverse mistake)[https://www.readthesequences.com/ReversedStupidityIsNotIntelligence] and don't abandon a new workout routine after you wake up sore for the first time).\n",
    "\n",
    "3. Keep your system simple\n",
    "\n",
    "The system is not a goal in itself. It should never be a goal in itself. It is just a tool and tools are supposed to be as simple as possible for their function. \n",
    "\n",
    "At a point when increasing your system's complexity starts increasing the costs of using and maintaining it more quickly than its benefits, hold yourself back and stay with the simpler variant. (Yes, complexity is not a single dimension and one thing can increase or decrease its complexity in many ways, some of which are better than others, but you get the point).\n",
    "\n",
    "The more complex your system is, the more time and cognitive effort you need to spend to keep it running. The more you invest in it, the more reward signal you get from it, and are distracted from intrinsic motivation related to that activity.\n",
    "\n",
    "So start simple. If you're a complete beginner, start absurdly simple. Grab a piece of paper and a pencil and write down three things that you want to do this week and are less than 80% likely to do. Practice on small things first to [build form](https://www.lesswrong.com/s/d922gAtBM8JNzkKKJ/p/NeGC3TFXMX8sxLNdY#Build_form). Once you get accustomed to it and feel like you need something more sophisticated, start adding more things, prioritizing them, automatization, making your system digital. Some templates like [Getting Things Done](https://gettingthingsdone.com/) may turn out useful for you. But let each adjustment be relatively small and incremental.\n",
    "\n",
    "Once we learn to like our hammers, we start seeing everything as nails. Once we learn to like our systems and start feeling very comfortable using them, we may be tempted to automatize everything. If you [write down and make everything explicit](https://www.lesswrong.com/posts/WQFioaudEH8R7fyhm/local-validity-as-a-key-to-sanity-and-civilization#iv_), the system becomes much more complicated than it needs to be and thus less useful. From my experience, in this case it's better to apply a relatively conservative approach and err on the side of caution. We tend to overestimate how much we will benefit from adding one more thread of complexity.\n",
    "\n",
    "4. Focus your system on overcoming bottlenecks/improving your weak points\n",
    "\n",
    "Related to the first point. If you find it hard to put on your running shoes and start jogging, you may benefit from systematizing it in some way, e.g. making a goal of jogging for at least 5 minutes a day and having a spreadsheet where you can see how your most recent streak has been. However, if once you get going, you very quickly get into the flow and can keep running for 15, 30, or 60 minutes, then you probably don't need to keep track of how the distance you run each day.\n",
    "\n",
    "Ask yourself \"*what prevents me from X*?\", \"*what are my **specific** weak points?* and then think about possible ways to overcome them. Needless to say, [Murphyjitsu](https://www.lesswrong.com/s/d922gAtBM8JNzkKKJ/p/zZkMm6ySRJKhHJHfq) is highly recommended. Once you find something that works, consider that maybe this is enough and you don't need to upgrade this system. Once you remove one, two, or three primary obstacles, you probably exploited most of the low-hanging fruits and you will be better off investing your time and energy in improving something else."
   ]
  },
  {
   "cell_type": "code",
   "execution_count": null,
   "metadata": {},
   "outputs": [],
   "source": []
  }
 ],
 "metadata": {
  "kernelspec": {
   "display_name": "Python 3",
   "language": "python",
   "name": "python3"
  },
  "language_info": {
   "codemirror_mode": {
    "name": "ipython",
    "version": 3
   },
   "file_extension": ".py",
   "mimetype": "text/x-python",
   "name": "python",
   "nbconvert_exporter": "python",
   "pygments_lexer": "ipython3",
   "version": "3.8.3"
  }
 },
 "nbformat": 4,
 "nbformat_minor": 4
}
