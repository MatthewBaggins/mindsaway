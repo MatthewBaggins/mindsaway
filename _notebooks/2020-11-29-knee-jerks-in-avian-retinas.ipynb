{
 "cells": [
  {
   "cell_type": "markdown",
   "metadata": {},
   "source": [
    "# Knee-jerks in chicken retinas\n",
    "> When the retina needs to talk to itself\n",
    "\n",
    "- toc: false\n",
    "- badges: true\n",
    "- comments: true\n",
    "- categories: [jupyter]\n",
    "- image: images/chart-preview.png"
   ]
  },
  {
   "cell_type": "markdown",
   "metadata": {},
   "source": [
    "The [patellar reflex/knee-jerk](https://en.wikipedia.org/wiki/Patellar_reflex) is a simple involuntary reaction. In response to a sudden stretch of the patellar tendon, the quadriceps muscle contracts and straightens the knee. The brain is not involved - the spinal cord (more specifically: segments{% fn 1 %} L2, L3, and L4, which control this part of the body) sends a motor command directly to the muscle upon receiving sensory information from the knee, without consulting the central nervous system.\n",
    "\n",
    "![](imgs/2020_11_29/patellar.png)\n",
    "\n",
    "Something similar can be found in retinas of most vertebrates: a \"low-level\" neural structure receiving visual information and immediately feeding back to the retina without involvement of \"high-level\" regions. Although in some groups this centrifugal visual system (it's called that because the information flows not just from the retina\\[to the center\\] but also back to the retina\\[from the center\\]) consists of barely a handful of neurons{% fn 2 %}, other animals have developed a much more sophisticated wiring, possibly pointing to a vital role it may play in their case.\n",
    "\n",
    "The most developed centrifugal visual system known is found in granivorous (i.e. seed-eating) birds. In their case, the role equivalent to the spinal cord is played by a small structure called the **isthmooptic nucleus** (ION) located very close to the **optic tectum** (OT){% fn 3 %}, the most basic visual structure in birds. This proximity is not accidental because ION completely depends on OT for its input. According to our current best knowledge the process looks something like this:\n",
    "\n",
    "1. When retina detects a fast moving shadow-like shape in the lower visual field, it sends this information to the OT.\n",
    "2. The OT relays it to the ION.\n",
    "3. The ION projects back to the same retina but to its *ventral* part, observing the upper visual field - sky, not the ground, like the part that initiated the loop.\n",
    "4. Specialised cells{% fn 4 $} in the ventral retina project to the cells in the dorsal retina, thus closing the entire loop.\n",
    "\n",
    "![](imgs/2020_11_29/ionloop.png)\n",
    "\n",
    "What could possibly be the function of this strange loop? Since these birds often fall prey to aerial predators (such as eagles), some researchers suggested that it may be an \"early warning system\". The dorsal retina detects a fast moving shadow - a sign of some object directly above, possibly a danger. The loop allows it to inform the ventral retina to scan the corresponding region of the sky in search for a predator which may have cast this shadow. At the same time, the *intra-retinal connection* allows both retinal halves to coordinate and efficiently look for signs of danger in the sky as well as on the ground.\n",
    "\n",
    "If this hypothesis is true, the retina-OT-ION-retina loop would be one of the most interesting examples of how the nervous system can fine-tune to the particular demands of the environment of the species - in this case, the high likelihood of falling prey to a predator hunting from the sky.\n",
    "\n",
    "{{'These segments are also called **neuromeres**.' | fndetail: 1}}\n",
    "{{'We are one such species.' | fndetail: 2}}\n",
    "{{'The mammalian equivalent of the **optic tectum** are the **superior colliculi** but in primates they serve only secondary function. For us, the most important visual structure beyond the neocortex is the **lateral geniculate nucleus**.' | fndetail: 3}}\n",
    "{{'These are so called **amacrine cells** (vide: image), distinct from the photoreceptors (rodes and cones) and ganglion cells (which send the information to structures beyond the retina). As far as I remember there are about 20 kinds of amacrine cells, possibly pointing to a diversity of roles they perform.' | fndetail: 4}}\n",
    "\n",
    "## References:\n",
    "Everything I learned about the avian centrifugal visual system (as well as the second figure included in this post) comes from:\n",
    "\n",
    "Güntürkün, O., Stacho, M., & Ströckens, F. (2020). The Brains of Reptiles and Birds. In J. H. Kaas (Ed.), Evolutionary Neuroscience (2nd ed., pp. 159-212). London: Elsevier Academic Press."
   ]
  },
  {
   "cell_type": "markdown",
   "metadata": {},
   "source": []
  }
 ],
 "metadata": {
  "kernelspec": {
   "display_name": "Python 3",
   "language": "python",
   "name": "python3"
  },
  "language_info": {
   "codemirror_mode": {
    "name": "ipython",
    "version": 3
   },
   "file_extension": ".py",
   "mimetype": "text/x-python",
   "name": "python",
   "nbconvert_exporter": "python",
   "pygments_lexer": "ipython3",
   "version": "3.8.3"
  }
 },
 "nbformat": 4,
 "nbformat_minor": 4
}
