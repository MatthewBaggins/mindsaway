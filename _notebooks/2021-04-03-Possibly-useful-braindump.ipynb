{
 "cells": [
  {
   "cell_type": "markdown",
   "metadata": {},
   "source": [
    "# 2021.04.03 | Possibly useful braindump\n",
    "\n",
    "- toc: false\n",
    "- badges: true\n",
    "- comments: true\n",
    "- categories: [jupyter]\n",
    "- image: images/chart-preview.png"
   ]
  },
  {
   "cell_type": "markdown",
   "metadata": {},
   "source": [
    "For the last few weeks I've been going through the [Training Regime Sequence](https://www.lesswrong.com/s/d922gAtBM8JNzkKKJ), 5 days per week. Yesterday I processed [Day 20: OODA Loop](https://www.lesswrong.com/s/d922gAtBM8JNzkKKJ/p/bh9gAZTmGyJ4j7h2L).\n",
    "\n",
    "In short, OODA Loop is a simple algorithm/(C)TAP/mental habit, which helps you appropriately react to different situations. You **Observe** - take information from the environment. Then you **Orient** yourself in this environment, i.e. use that information to find possible actions. Then you **Decide** which one is best (i.e. has the *expected utility* according to some specified goal) and **Act**. Hence, **OODA**.\n",
    "\n",
    "Each one of these seems obvious. They are obvious. Even linking them in this order may seem obvious. Nevertheless, it is an incredibly useful concept to have available in the back of your mind and teaching your unconscious to implement this algorithm whenever you find yourself in a novel situation can be immensely helpful.\n",
    "\n",
    "*(The entire sequence contains many such things that seem obvious but which we tend to use less often than it would be optimal)*\n",
    "\n",
    "But the most important thing (to point out) about the **OODA loop** is the fact that *it is a loop*. You do not stop and rest on laurels after *acting*. You repeat the loop. You **observe** again to assess how well the outcome matches your preference, re-**orient** yoursel... rinse and repeat until you run out of resources or decide that it's good enough.\n",
    "\n",
    "If I had to represent this as a piece of code, it ***wouldn't*** look like this.\n"
   ]
  },
  {
   "cell_type": "code",
   "execution_count": null,
   "metadata": {},
   "outputs": [],
   "source": [
    "def OODA():\n",
    "    data = observe(environment)\n",
    "    actions = orient(data)\n",
    "    optimal_action = decide(actions, preferences)\n",
    "    act(optimal_action)\n",
    "\n",
    "\n",
    "if confused:\n",
    "    OODA()"
   ]
  },
  {
   "cell_type": "markdown",
   "metadata": {},
   "source": [
    "But rather like ***this***: "
   ]
  },
  {
   "cell_type": "code",
   "execution_count": null,
   "metadata": {},
   "outputs": [],
   "source": [
    "while satisfaction_criterion < satisfaction_threshold and resources > resources_threshold:\n",
    "    OODA()"
   ]
  },
  {
   "cell_type": "markdown",
   "metadata": {},
   "source": [
    "[Later](https://www.lesswrong.com/s/d922gAtBM8JNzkKKJ/p/bh9gAZTmGyJ4j7h2L#Failures) in the post, [Mark](https://www.lesswrong.com/users/mark-xu) enumerates through 8 common modes of failure people commit when implementing OODA (which we all do to some extent, whether we have this concept or not). The last one is the least obvious and also the one I'm most prone to: [Failure in Act -> Observe](https://www.lesswrong.com/s/d922gAtBM8JNzkKKJ/p/bh9gAZTmGyJ4j7h2L#Failure_in_Act____Observe). My planning accuracy has been getting much better over the last few months but I still tend to overestimate how much I can do in a given timespan (especially I tend to neglect the possibility of random events reducing my ability to concentrate, e.g. all of a sudden I need to babysit my 4 year old brother). The most intuitive reaction for me is to tighten up and press the [Try Harder Button](https://www.neelnanda.io/blog/mini-blog-post-6-stop-pressing-the-try-harder-button), but this rarely works and when it does, it often makes me exhausted and thus the overall result is net worse, once I take into account my subjective well-being. The better response (actually, the only sensible alternative) would be to **repeat the loop**. I **observed**, **oriented**, **decided**, and **acted**, but my initial plan didn't survive the contact with reality.\n",
    "\n",
    "You press **act**.\n",
    "\n",
    "If you succeed, awesome.\n",
    "\n",
    "If you don't succeed. Don't keep pressing **act**, because it's highly likely that the plan was flawed.\n",
    "\n",
    "Repeat the loop. Re-**observe**. Re-**o"
   ]
  },
  {
   "cell_type": "markdown",
   "metadata": {},
   "source": [
    "Some snakes see the world differently than we do. And I don't mean \"just\" seeing with a different [color palette](https://www.biosphereonline.com/2016/09/06/snake-vision-what-do-snakes-see/) or processing visual information in different parts of the brain$^1$. Some snakes, specifically pit vipers (like rattlesnakes) and several kinds of constrictors (such as boas and pythons) literally *see* not only with their eyes but also with pairs of tiny holes located on the front of their skulls.\n",
    "\n",
    "These holes are **facial pits**–unique sensory organs specialized for remote sensing of temperature. Imagine being able to *feel* the precise temperature of an object from several meters away, just by looking at it. That's what two groups of snakes, *Crotalinae* (pit vipers, which include rattlesnakes) and *Boidae* (boids, which include some of the largest and the heaviest [living](https://en.wikipedia.org/wiki/List_of_largest_snakes) \\[as well as some [extinct](https://youtu.be/T-hDNbM-WLk)\\] species of snakes) are capable of. What's interesting is that these two taxa evolved basically the same infrared-sensing organs independently of one another, giving as [yet another example](https://en.wikipedia.org/wiki/List_of_examples_of_convergent_evolution) of *convergent evolution*.\n",
    "\n",
    "Despite many similarities, facial pits of boids and pit vipers differ considerably. First, they differ in number and size. Pit vipers have one big facial pit at each side of the skull, located between the nostril and the eye (they are called **loreal pits**), whereas boids have three or more pairs of pits lining up their lips (therefore called **labial pits** from Latin *labium* meaning \"lip\") and their pits are smaller than those of their *Crotalinae* cousins[$^2$](https://web.archive.org/web/20161228022254/http://www.nature.com/news/2010/100314/full/news.2010.122.html). Further differences can be seen in the inside. In both lineages the pit consists of a chamber with sensory membrane, densely innervated and vascularized. The membrane is sensitive to the most subtle changes in the chamber air temperature (as little as $0.001^\\circ C$)$^1$. Because the chamber is shielded quite well from the external environment, its temperature can be raised only via infrared radiation coming from the object that the snake currently \"looks\" at with its pit.\n",
    "\n",
    "A temperature change triggers an electric impulse which travels via the trigeminal nerve to the central nervous system. However, once the membrane's temperature has been raised, it now needs to be cooled down, which is achieved differently by pit vipers and boas[$^2$](https://web.archive.org/web/20161228022254/http://www.nature.com/news/2010/100314/full/news.2010.122.html). In pit vipers, the membrane is suspended between two separate chambers so that after being heated by the temperature change in the anterior chamber (open to the external environment) it can be quickly cooled down by slightly colder air from the posterior chamber (lacking contact with the external environment). In boas, this is not possible, since their sensory membranes are not suspended between the two chambers but rather line up the posterior wall of a single chamber{% fn 1 %}. Therefore they need to rely on blood supply for cooling down the membrane, bringing it back to the \"default\" temperature of the organism as approximated by the temperature of the blood.\n",
    "\n",
    "Once the temperature change is detected it travels, both in *Crotalinae* and *Boidae*, to the optic tectum$^1$–main visual center in the brains of birds{% fn 2 %} and reptiles (although serves only a secondary role in visual processing in human brains). On the way, we can see one more difference between the two lineages: in boas, the signal is sent straight to the optic tectum whereas in pit vipers it is relayed via a small *nucleus reticularis caloris* of the medulla. It's worth mentioning that the nerve which transmits the IR information is the **trigeminal nerve** which in humans (and, as far as I know, all vertebrates) transmits predominantly the somatosensory information from the face and innervates the jaw muscles. The part that in pit vipers and boids adapted to transmitting IR information detaches from the remaining part (which on its own connects to somatosensory and motor nuclei) to join the optic tectum. In my opinion, it is a beautiful example of how the nervous system can evolve and adapt to the everchanging demands of the environment.\n",
    "\n",
    "What's even more remarkable is how smoothly this infrared information integrates with the visual stimuli from the eyes. Many cells in the optic tectum are bimodal visuo-thermal neurons, sensitive to both the \"visible\" light and the infrared radiation coming from a particular place in the field of view$^1$. Some of them respond only when both kinds of stimuli are present, for some either one is enough, yet another types of neurons respond to visual stimuli but get silenced by a thermal stimulus (or *vice versa*). This deep visuo-thermal integration is maintained and relayed to the downstream visual areas to which the optic tectum projects.\n",
    "\n",
    "From this we can assume with relatively high degree of certainty that ***snakes see not just with their eyes but also with their facial pits***.\n",
    "\n",
    "All snakes lead a predatory lifestyle, so it's not surprising that they use thermoception to hunt warm-blooded prey such as mammals and birds. Indeed, some experiments shown that even a blind rattlesnake can hunt somewhat succesfully relying on its facial pits alone$^3$. However, this is not the only way they can be useful. At least some species of rattlesnakes use them for regulating their body temperature, which they achieve mostly by relocating from a place that is too hot or too cold to one where the temperature is closer to optimal. However, their facial pits are *only sensitive to temperature changes of the moving objects*. How then do they see the temperature of the stationary environment? Well, they move it themselves, or more precisely, create a relative motion with scanning head movements$^1$.\n",
    "\n",
    "{{'Maybe boas could not evolve suspended membranes (as rattlesnakes did) simply because they had not had enough space in their pits to divide them into two separate chambers (which are smaller than those of rattlesnakes).' | fndetail: 1}}\n",
    "{{'It birds it has grown so much that it is often called the **visual lobe** although, unlike lobes in the human brain, it is a part of the midbrain (*mesencephalon*) and not the cerebral cortex.' | fndetail: 2}}"
   ]
  },
  {
   "cell_type": "markdown",
   "metadata": {},
   "source": [
    "# References\n",
    "1. Güntürkün, O., Stacho, M., & Ströckens, F. (2020). The Brains of Reptiles and Birds. In J. H. Kaas (Ed.), Evolutionary Neuroscience (2nd ed., pp. 159-212). London: Elsevier Academic Press.\n",
    "2. https://web.archive.org/web/20161228022254/http://www.nature.com/news/2010/100314/full/news.2010.122.html\n",
    "3. Kardong, K., & Mackessy, S. (1991). The Strike Behavior of a Congenitally Blind Rattlesnake. Journal of Herpetology, 25(2), 208-211. doi:10.2307/1564650"
   ]
  },
  {
   "cell_type": "markdown",
   "metadata": {},
   "source": [
    "#hide\n",
    "## Eyes very different from ours.\n",
    "\n",
    "Animals see the world in very different ways. Even among mammals we see some variability. Our trichromatic vision, constituted by three kinds of cone receptors, fine-tuned to respond to the wavelengths of 430, 540, and 570 nanometers (blue, green, and red light, respectively) is typical only for our species and our closest primate cousing. Most mammals are dichromatic - they possess two-color vision, due to having only two types of cones in their retina. This is what we usually mean when we say that a person is \"color-blind\" - it's not that their world is painted with gray scale, it's just that they lack one kind of three photoreceptors responsible for color vision.\n",
    "\n",
    "Interestingly, individual species differ quite considerably with regards to the fine-tuning of their photoreceptors. Rats, for example, have short-wavelength cones (which in us humans would be responsible for blue-color vision) fine-tuned to a slightly shorter wavelengths, allowing them to see ultraviolet. Also, some mammals completely \"sacrificed\" their color vision in exchange for better night vision - the space freed up by the elimination of their retinal cones was repopulated by rods (the other kind of retinal photoreceptor) endowing them with greater sensitivity to very dim light. This is what happened to whales, sirenians (such as dugongs and manates), pinnipeds (seals, walruses, and their kin) or even some nocturnal primates, like aye-aye.\n",
    "\n",
    "Even ***more interestingly*** mammalian dichromatism is not an ancestral condition. The ancestors of mammals were, like most non-mammalian vertebrates, tetrachromatic, i.e. they had four types of cones in their retinas and thus perceived four primary colors. Early in mammalian history, during the reign of dinosaurs, our ancestors were rather small animals, hiding in the bushes, and were active mostly during the night (*nocturnal*) or twilight (*crepuscular*) so they did not need very detailed color vision and thus got by quite well with only two types of cones. The value of trichromatic vision was rediscovered only relatively recently by (at least) three groups of primates (apes, including humans, consitute one of them) who found it very useful for finding ripe fruits among the canopy.\n",
    "\n",
    "### Just eyes? Nay, ma'am...\n",
    "\n",
    "But sometimes there's more to seeing than just eyes. And no, I don't mean either the third (so called *parietal*) eye of tuataras, nor secondary eyes (so called *ocelli*) of many arthropod species. Some species of snakes, for example rattlesnakes, can perceive infrared, a part of the electromagnetic spectrum especially useful for remote sensing of temperature of objects (the higher the temperature of an object, the more infrared it emits). As all snakes are predators, it's not a hard guess that they use it mainly to find warm-blooded prey, such as mammals.\n",
    "\n",
    "To see the infrared, rattlesnakes do not rely on their retinas. They have developed specialized organs called **facial pits** which are two small apertures located between a nostril and an eye on each side of the head. These are basically pinhole cameras, with back walls lined up with free nerve endings responding to very minor changes in temperature: a rattlesnake can detect a temperature change as small as $0.001^\\circ$C (one-thousandth of a degree Celsius). Isn't it remarkable that such a simple biological device can be so sensitive?\n",
    "\n",
    "But what's even more remarkable is that this thermoreceptive organ is completely integrated with rattlesnake's visual system. Signals from its nerve endings travel via trigeminal nerve, the biggest of the cranial nerves which in humans deals mostly with transmitting somatosensory information from our face as well as innervating the muscles of our jaws. In rattlesnakes however, the fibers that transmit the thermal/infrared information from the facial pits detaches from the rest of the trigeminal nerve and connects to the **optic tectum** - the main visual center of the reptilian brain. There we can find (many other types of neurons) bimodal thermo-visual neurons, which respond both to visual and thermal stimuli coming from the same place in the visual field.\n",
    "\n",
    "The integration doesn't end here either. The bimodal neurons of the rattlesnake's optic tectum pass this integrated information further, to other visual brain structures So we can safely say that the thermoreceptive facial pits and rattlesnake's eyes constitute one integrated system and not with the eyes alone the rattlesnake sees the world.\n",
    "\n",
    "However, there is one important caveat here. For some reason, facial pits \"see\" only moving stimuli, they are completely indifferent to the differences in temperature of the static objects. This may have been an additional evolutionary pressure for rattlesnake's potential warm-blooded prey (like rodents or possums) to develop an automatic freeze response in the presence of a predator. But hunting it isn't just hunting that rattlesnakes uses its infrared sensing for. As endotherms they rely on external sources of heat to regulate their temperature, so it makes sense for them to use employ it for seeking warm places. Of course, nice, sun-warmed places usually do not move very much. Rattlesnakes deal with it in a clever way, to see the temperature of static objects, they move them themselves, or rather their images. By moving their head left and right, they create relative motion, thus making the unseen static objects visible to their facial pits. "
   ]
  },
  {
   "cell_type": "code",
   "execution_count": null,
   "metadata": {},
   "outputs": [],
   "source": []
  }
 ],
 "metadata": {
  "kernelspec": {
   "display_name": "Python 3",
   "language": "python",
   "name": "python3"
  },
  "language_info": {
   "codemirror_mode": {
    "name": "ipython",
    "version": 3
   },
   "file_extension": ".py",
   "mimetype": "text/x-python",
   "name": "python",
   "nbconvert_exporter": "python",
   "pygments_lexer": "ipython3",
   "version": "3.8.3"
  }
 },
 "nbformat": 4,
 "nbformat_minor": 4
}
