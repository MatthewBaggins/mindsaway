{
 "cells": [
  {
   "cell_type": "markdown",
   "metadata": {},
   "source": [
    "# 2021.04.03 | Possibly useful braindump\n",
    "\n",
    "- toc: false\n",
    "- badges: true\n",
    "- comments: true\n",
    "- categories: [jupyter]\n",
    "- image: images/chart-preview.png"
   ]
  },
  {
   "cell_type": "markdown",
   "metadata": {},
   "source": [
    "For the last few weeks I've been going through the [Training Regime Sequence](https://www.lesswrong.com/s/d922gAtBM8JNzkKKJ), 5 days per week. Yesterday I processed [Day 20: OODA Loop](https://www.lesswrong.com/s/d922gAtBM8JNzkKKJ/p/bh9gAZTmGyJ4j7h2L).\n",
    "\n",
    "In short, OODA Loop is a simple algorithm/(C)TAP/mental habit, which helps you appropriately react to different situations. You **Observe** - take information from the environment. Then you **Orient** yourself in this environment, i.e. use that information to find possible actions. Then you **Decide** which one is best (i.e. has the *expected utility* according to some specified goal) and **Act**. Hence, **OODA**.\n",
    "\n",
    "Each one of these seems obvious. They are obvious. Even linking them in this order may seem obvious. Nevertheless, it is an incredibly useful concept to have available in the back of your mind and teaching your unconscious to implement this algorithm whenever you find yourself in a novel situation can be immensely helpful.\n",
    "\n",
    "*(The entire sequence contains many such things that seem obvious but which we tend to use less often than it would be optimal)*\n",
    "\n",
    "But the most important thing (to point out) about the **OODA loop** is the fact that *it is a loop*. You do not stop and rest on laurels after *acting*. You repeat the loop. You **observe** again to assess how well the outcome matches your preference, re-**orient** yoursel... rinse and repeat until you run out of resources or decide that it's good enough.\n",
    "\n",
    "If I had to represent this as a piece of code, it ***wouldn't*** look like this.\n"
   ]
  },
  {
   "cell_type": "code",
   "execution_count": null,
   "metadata": {},
   "outputs": [],
   "source": [
    "def OODA():\n",
    "    data = observe(environment)\n",
    "    actions = orient(data)\n",
    "    optimal_action = decide(actions, preferences)\n",
    "    act(optimal_action)\n",
    "\n",
    "\n",
    "if confused:\n",
    "    OODA()"
   ]
  },
  {
   "cell_type": "markdown",
   "metadata": {},
   "source": [
    "But rather like ***this***: "
   ]
  },
  {
   "cell_type": "code",
   "execution_count": null,
   "metadata": {},
   "outputs": [],
   "source": [
    "while satisfaction_criterion < satisfaction_threshold and resources > resources_threshold:\n",
    "    OODA()"
   ]
  },
  {
   "cell_type": "markdown",
   "metadata": {},
   "source": [
    "[Later](https://www.lesswrong.com/s/d922gAtBM8JNzkKKJ/p/bh9gAZTmGyJ4j7h2L#Failures) in the post, [Mark](https://www.lesswrong.com/users/mark-xu) enumerates through 8 common modes of failure people commit when implementing OODA (which we all do to some extent, whether we have this concept or not). The last one is the least obvious and also the one I'm most prone to: [Failure in Act -> Observe](https://www.lesswrong.com/s/d922gAtBM8JNzkKKJ/p/bh9gAZTmGyJ4j7h2L#Failure_in_Act____Observe). My planning accuracy has been getting much better over the last few months but I still tend to overestimate how much I can do in a given timespan (especially I tend to neglect the possibility of random events reducing my ability to concentrate, e.g. all of a sudden I need to babysit my 4 year old brother). The most intuitive reaction for me is to tighten up and press the [Try Harder Button](https://www.neelnanda.io/blog/mini-blog-post-6-stop-pressing-the-try-harder-button), but this rarely works and when it does, it often makes me exhausted and thus the overall result is net worse, once I take into account my subjective well-being. The better response (actually, the only sensible alternative) would be to **repeat the loop**. I **observed**, **oriented**, **decided**, and **acted**, but my initial plan didn't survive the contact with reality.\n",
    "\n",
    "You press **act**.\n",
    "\n",
    "If you succeed, awesome.\n",
    "\n",
    "If you don't succeed. Don't keep pressing **act**, because it's highly likely that the plan was flawed.\n",
    "\n",
    "Repeat the loop. Re-**Observe**. Re-**Orient**. Re-**Decide**.\n",
    "\n",
    "And then **Act**, instead of reacting by pressing [Try Harder](https://www.neelnanda.io/blog/mini-blog-post-6-stop-pressing-the-try-harder-button)."
   ]
  }
 ],
 "metadata": {
  "kernelspec": {
   "display_name": "Python 3",
   "language": "python",
   "name": "python3"
  },
  "language_info": {
   "codemirror_mode": {
    "name": "ipython",
    "version": 3
   },
   "file_extension": ".py",
   "mimetype": "text/x-python",
   "name": "python",
   "nbconvert_exporter": "python",
   "pygments_lexer": "ipython3",
   "version": "3.8.3"
  }
 },
 "nbformat": 4,
 "nbformat_minor": 4
}
